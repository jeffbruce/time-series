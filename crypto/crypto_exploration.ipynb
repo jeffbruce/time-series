{
 "cells": [
  {
   "cell_type": "markdown",
   "metadata": {},
   "source": [
    "# Crypto Price Prediction"
   ]
  },
  {
   "cell_type": "markdown",
   "metadata": {},
   "source": [
    "Poloniex API docs: https://docs.poloniex.com/#returnchartdata"
   ]
  },
  {
   "cell_type": "markdown",
   "metadata": {},
   "source": [
    "## Imports"
   ]
  },
  {
   "cell_type": "code",
   "execution_count": 64,
   "metadata": {},
   "outputs": [],
   "source": [
    "import datetime\n",
    "import pandas as pd\n",
    "import requests\n",
    "import time"
   ]
  },
  {
   "cell_type": "markdown",
   "metadata": {},
   "source": [
    "## Getting the Data"
   ]
  },
  {
   "cell_type": "code",
   "execution_count": 74,
   "metadata": {},
   "outputs": [],
   "source": [
    "current_date = int(datetime.datetime.now().strftime('%s'))\n",
    "end_dt = current_date\n",
    "time_interval = 365*5*86400\n",
    "start_dt = end_dt - time_interval"
   ]
  },
  {
   "cell_type": "code",
   "execution_count": 75,
   "metadata": {},
   "outputs": [],
   "source": [
    "def get_currency_price_data(currency_pair, start_dt, end_dt):\n",
    "    '''\n",
    "    '''\n",
    "    window = 90*86400\n",
    "    params = {\n",
    "        'command': 'returnChartData',\n",
    "        'currencyPair': currency_pair,\n",
    "        'period': 300\n",
    "    }\n",
    "    price_df = pd.DataFrame()\n",
    "    \n",
    "    for start in range(start_dt, end_dt, window):\n",
    "        params['start'] = start\n",
    "        params['end'] = start + window\n",
    "        response = requests.get(url='https://poloniex.com/public', params=params)\n",
    "        # Should technically inspect the response here but I've noticed that a status_code == 200 doesn't necessarily imply that proper data was returned.  I've encountered errors where the API returned text claiming that the response was too large.\n",
    "        price_df = pd.concat([price_df, pd.DataFrame(response.json())])\n",
    "        # Possibly add wait period here before calling API again.  I've found it's unnecessary, though.\n",
    "    \n",
    "    return price_df"
   ]
  },
  {
   "cell_type": "code",
   "execution_count": 79,
   "metadata": {},
   "outputs": [],
   "source": [
    "# 5 years of data is ~40MB.\n",
    "eth_data = get_currency_price_data(currency_pair='USDT_ETH', start_dt=start_dt, end_dt=end_dt)"
   ]
  },
  {
   "cell_type": "code",
   "execution_count": 80,
   "metadata": {},
   "outputs": [
    {
     "name": "stdout",
     "output_type": "stream",
     "text": [
      "<class 'pandas.core.frame.DataFrame'>\n",
      "Int64Index: 447459 entries, 0 to 7201\n",
      "Data columns (total 8 columns):\n",
      "close              447459 non-null float64\n",
      "date               447459 non-null int64\n",
      "high               447459 non-null float64\n",
      "low                447459 non-null float64\n",
      "open               447459 non-null float64\n",
      "quoteVolume        447459 non-null float64\n",
      "volume             447459 non-null float64\n",
      "weightedAverage    447459 non-null float64\n",
      "dtypes: float64(7), int64(1)\n",
      "memory usage: 30.7 MB\n"
     ]
    }
   ],
   "source": [
    "eth_data.info()"
   ]
  },
  {
   "cell_type": "code",
   "execution_count": 81,
   "metadata": {},
   "outputs": [],
   "source": [
    "# 5 years of data is ~40MB.\n",
    "btc_data = get_currency_price_data(currency_pair='USDT_BTC', start_dt=start_dt, end_dt=end_dt)"
   ]
  },
  {
   "cell_type": "code",
   "execution_count": 82,
   "metadata": {},
   "outputs": [
    {
     "name": "stdout",
     "output_type": "stream",
     "text": [
      "<class 'pandas.core.frame.DataFrame'>\n",
      "Int64Index: 496204 entries, 0 to 7201\n",
      "Data columns (total 8 columns):\n",
      "close              496204 non-null float64\n",
      "date               496204 non-null int64\n",
      "high               496204 non-null float64\n",
      "low                496204 non-null float64\n",
      "open               496204 non-null float64\n",
      "quoteVolume        496204 non-null float64\n",
      "volume             496204 non-null float64\n",
      "weightedAverage    496204 non-null float64\n",
      "dtypes: float64(7), int64(1)\n",
      "memory usage: 34.1 MB\n"
     ]
    }
   ],
   "source": [
    "btc_data.info()"
   ]
  },
  {
   "cell_type": "code",
   "execution_count": 84,
   "metadata": {},
   "outputs": [],
   "source": [
    "# btc_data.to_csv('data/btc_price.csv')"
   ]
  },
  {
   "cell_type": "markdown",
   "metadata": {},
   "source": [
    "## Modeling"
   ]
  },
  {
   "cell_type": "code",
   "execution_count": null,
   "metadata": {},
   "outputs": [],
   "source": []
  }
 ],
 "metadata": {
  "kernelspec": {
   "display_name": "Python 3",
   "language": "python",
   "name": "python3"
  },
  "language_info": {
   "codemirror_mode": {
    "name": "ipython",
    "version": 3
   },
   "file_extension": ".py",
   "mimetype": "text/x-python",
   "name": "python",
   "nbconvert_exporter": "python",
   "pygments_lexer": "ipython3",
   "version": "3.7.2"
  }
 },
 "nbformat": 4,
 "nbformat_minor": 2
}
